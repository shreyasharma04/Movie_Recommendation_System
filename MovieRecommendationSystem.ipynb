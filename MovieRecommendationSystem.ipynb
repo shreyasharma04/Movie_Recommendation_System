{
 "cells": [
  {
   "cell_type": "code",
   "execution_count": null,
   "metadata": {},
   "outputs": [],
   "source": [
    "print(‘>> Installing Libraries’)\n",
    "!pip3 install pandas matplotlib numpy scikit-surprise\n",
    "print(‘>> Libraries Installed’)"
   ]
  },
  {
   "cell_type": "code",
   "execution_count": null,
   "metadata": {},
   "outputs": [],
   "source": [
    "print(‘>> Importing Libraries’)\n",
    "import pandas as pd\n",
    "from surprise import Reader, Dataset, SVD\n",
    "from surprise.accuracy import rmse, mae\n",
    "from surprise.model_selection import cross_validate\n",
    "print(‘>> Libraries imported.’)"
   ]
  },
  {
   "cell_type": "code",
   "execution_count": null,
   "metadata": {},
   "outputs": [],
   "source": [
    "df=pd.read_csv(‘ratings.csv’)\n",
    "df.head()"
   ]
  },
  {
   "cell_type": "code",
   "execution_count": null,
   "metadata": {},
   "outputs": [],
   "source": [
    "df.drop(‘timestamp’, axis=1, inplace=True)\n",
    "df.head()"
   ]
  },
  {
   "cell_type": "code",
   "execution_count": null,
   "metadata": {},
   "outputs": [],
   "source": [
    "df.isna().sum()"
   ]
  },
  {
   "cell_type": "code",
   "execution_count": null,
   "metadata": {},
   "outputs": [],
   "source": [
    "n_movies=df[“movieId”].nunique()\n",
    "n_users=df[“userId”].nunique()\n",
    "print(f’Number of unique movies: {n_movies}’)\n",
    "print(f’Number of unique users: {n_users}’)"
   ]
  },
  {
   "cell_type": "code",
   "execution_count": null,
   "metadata": {},
   "outputs": [],
   "source": [
    "available_ratings=df[‘rating’].count()\n",
    "total_ratings=n_movies*n_users\n",
    "missing_ratings=total_ratings – available_ratings\n",
    "sparsity=(missing_ratings/total_ratings)*100\n",
    "print(f’Sparsity: {sparsity}’)"
   ]
  },
  {
   "cell_type": "code",
   "execution_count": null,
   "metadata": {},
   "outputs": [],
   "source": [
    "df[‘rating’].value_counts().plot(kind= ‘bar’)"
   ]
  },
  {
   "cell_type": "code",
   "execution_count": null,
   "metadata": {},
   "outputs": [],
   "source": [
    "filter_movies=df[‘movieId’].value_counts() > 3\n",
    "filter_movies=filter_movies[filter_movies].index.tolist()"
   ]
  },
  {
   "cell_type": "code",
   "execution_count": null,
   "metadata": {},
   "outputs": [],
   "source": [
    "filter_users=df[‘userId’].value_counts() > 3\n",
    "filter_users=filter_users[filter_users].index.tolist()"
   ]
  },
  {
   "cell_type": "code",
   "execution_count": null,
   "metadata": {},
   "outputs": [],
   "source": [
    "print(f’Original Shape: {df.shape}’)\n",
    "df=df[(df[‘movieId’].isin(filter_movies)) & (df[‘userId’].isin(filter_users))]\n",
    "print(f’New shape: {df.shape}’)"
   ]
  },
  {
   "cell_type": "code",
   "execution_count": null,
   "metadata": {},
   "outputs": [],
   "source": [
    "cols = [‘userId’, ‘movieId’, ‘rating’]\n",
    "reader = Reader(rating_scale = (0.5 , 5))\n",
    "data = Dataset.load_from_df(df[cols], reader)\n",
    "trainset = data.build_full_trainset()\n",
    "antiset = trainset.build_anti_testset()"
   ]
  },
  {
   "cell_type": "code",
   "execution_count": null,
   "metadata": {},
   "outputs": [],
   "source": [
    "algo = SVD(n_epochs = 25, verbose= True)\n",
    "cross_validate(algo, data, measures) = [‘RMSE’, ‘MAE’], cv=5, verbose = True)\n",
    "print(‘>> Training Done’)"
   ]
  },
  {
   "cell_type": "code",
   "execution_count": null,
   "metadata": {},
   "outputs": [],
   "source": [
    "predictions = algo.test(antiset)\n",
    "predictions[0]\n",
    "from collections import defaultdict\n",
    "def get_top_n(predictions, n):\n",
    "top_n = defaultdict(list)\n",
    "for uid, iid, _, est, _ in predictions:\n",
    "top_n[uid].append((iid, est))\n",
    "for uid, user_ratings in top_n.items():\n",
    "user_ratings.sort(key = lambda x: x[1], reverse = True)\n",
    "top_n[uid] = user_ratings[:n]\n",
    "return top_n\n",
    "pass"
   ]
  },
  {
   "cell_type": "code",
   "execution_count": null,
   "metadata": {},
   "outputs": [],
   "source": [
    "top_n = get_top_n(predictions, n=3)\n",
    "for uid, user_ratings in top_n.items():\n",
    "print(uid, [iid for (iid, rating) in user_ratings])"
   ]
  }
 ],
 "metadata": {
  "interpreter": {
   "hash": "31f2aee4e71d21fbe5cf8b01ff0e069b9275f58929596ceb00d14d90e3e16cd6"
  },
  "kernelspec": {
   "display_name": "Python 3.8.10 64-bit",
   "name": "python3"
  },
  "language_info": {
   "name": "python",
   "version": "3.8.10"
  },
  "orig_nbformat": 4
 },
 "nbformat": 4,
 "nbformat_minor": 2
}
